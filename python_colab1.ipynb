{
  "nbformat": 4,
  "nbformat_minor": 0,
  "metadata": {
    "colab": {
      "name": "Untitled0.ipynb",
      "provenance": [],
      "authorship_tag": "ABX9TyMWMbpxClHf4uMFMXKOhTPW",
      "include_colab_link": true
    },
    "kernelspec": {
      "name": "python3",
      "display_name": "Python 3"
    }
  },
  "cells": [
    {
      "cell_type": "markdown",
      "metadata": {
        "id": "view-in-github",
        "colab_type": "text"
      },
      "source": [
        "<a href=\"https://colab.research.google.com/github/TahaMeziane/PythonPractice/blob/master/python_colab1.ipynb\" target=\"_parent\"><img src=\"https://colab.research.google.com/assets/colab-badge.svg\" alt=\"Open In Colab\"/></a>"
      ]
    },
    {
      "cell_type": "markdown",
      "metadata": {
        "id": "BtlBPv0G5LBI",
        "colab_type": "text"
      },
      "source": [
        "# ***My stack implementation***"
      ]
    },
    {
      "cell_type": "code",
      "metadata": {
        "id": "eW1bjwJtxL7X",
        "colab_type": "code",
        "colab": {
          "base_uri": "https://localhost:8080/",
          "height": 68
        },
        "outputId": "de5cb36b-b1db-4d1b-e552-9efbcafcccfd"
      },
      "source": [
        "class Stack :\n",
        "  def __init__(self, capacity):\n",
        "    self.data = [None]*capacity\n",
        "    self.capacity = capacity\n",
        "    self.top = -1\n",
        "  def peek(self):\n",
        "    if self.top == -1:\n",
        "      print(\"Stack is empty!\")\n",
        "    else:\n",
        "      return self.data[self.top]\n",
        "  def push(self,data):\n",
        "    if self.top == self.capacity -1:\n",
        "      print(\"Can't push! Stack is full!\")\n",
        "    else:\n",
        "      self.top += 1\n",
        "      self.data[self.top] = data\n",
        "  def pop(self):\n",
        "    if self.top == -1:\n",
        "      print(\"Can't pop! Stack is empty!\")\n",
        "    else:\n",
        "      self.data[self.top] = None\n",
        "      self.top -= 1\n",
        "  def __repr__(self):\n",
        "    return f\"{self.data[:self.top+1]}\"\n",
        "  \n",
        "# my_stack = Stack(3)\n",
        "# my_stack.push(7)\n",
        "# my_stack.push(10)\n",
        "# my_stack.push(22)\n",
        "# my_stack.pop()\n",
        "# a =my_stack.peek()\n",
        "# print(my_stack)\n",
        "\n",
        "# print(a)\n",
        "# my_stack.pop()\n",
        "# my_stack.pop()\n",
        "# my_stack.pop()\n",
        "\n"
      ],
      "execution_count": null,
      "outputs": [
        {
          "output_type": "stream",
          "text": [
            "[7, 10]\n",
            "10\n",
            "Can't pop! Stack is empty!\n"
          ],
          "name": "stdout"
        }
      ]
    },
    {
      "cell_type": "code",
      "metadata": {
        "id": "u4qVR_sxY4XK",
        "colab_type": "code",
        "colab": {
          "base_uri": "https://localhost:8080/",
          "height": 34
        },
        "outputId": "c8ae50c5-e165-4dac-9683-6f2992e13633"
      },
      "source": [
        "s = \"irte\"\n",
        "s.index(\"r\")"
      ],
      "execution_count": null,
      "outputs": [
        {
          "output_type": "execute_result",
          "data": {
            "text/plain": [
              "1"
            ]
          },
          "metadata": {
            "tags": []
          },
          "execution_count": 37
        }
      ]
    },
    {
      "cell_type": "markdown",
      "metadata": {
        "id": "stOeBWNeH0wT",
        "colab_type": "text"
      },
      "source": [
        "# ***Linked List Implementation***\n",
        "\n"
      ]
    },
    {
      "cell_type": "code",
      "metadata": {
        "id": "Bb5B12UxIDgm",
        "colab_type": "code",
        "colab": {
          "base_uri": "https://localhost:8080/",
          "height": 51
        },
        "outputId": "333db726-2ae6-4eb9-95f3-e866306eea59"
      },
      "source": [
        "class ListNode:\n",
        "  def __init__(self, data = None, next_node = None):\n",
        "    self.data = data\n",
        "    self.next = next_node\n",
        "  def __str__(self):\n",
        "    return str(self.data)\n",
        "  \n",
        "  \n",
        "class LinkedList:\n",
        "\n",
        "  def __init__(self, head_node = None):\n",
        "    self.head = head_node\n",
        "\n",
        "  def insert_after(self,node,new_node):\n",
        "    new_node.next = node.next\n",
        "    node.next = new_node\n",
        "\n",
        "  def delete_after(self,node):\n",
        "    if node.next!=None:\n",
        "      node.next = node.next.next \n",
        "\n",
        "  def search(self,node):\n",
        "    L = self.head\n",
        "    while L.data != node.data:\n",
        "      if L.next == None:\n",
        "        return False\n",
        "        break  \n",
        "      else:\n",
        "        L = L.next\n",
        "    return True\n",
        "\n",
        "  def __repr__(self):\n",
        "    current_node = self.head\n",
        "    l = []\n",
        "    while current_node != None:\n",
        "      l.append(str(current_node.data))\n",
        "      current_node = current_node.next\n",
        "    return l[0] + \" --> \"+\" --> \".join(l[1:len(l)])\n",
        "\n",
        "def create_from_list(l):\n",
        "  if l == []:\n",
        "    return LinkedList()\n",
        "  last_node = ListNode(l[len(l)-1])\n",
        "  next_node = last_node\n",
        "  first_node = None\n",
        "  for i in range(len(l)-2,-1,-1):\n",
        "    if i == 0:\n",
        "      first_node = ListNode(l[0],next_node )\n",
        "    else:\n",
        "      a = ListNode(l[i],next_node)\n",
        "      next_node = a\n",
        "  return LinkedList(first_node)\n",
        "    \n",
        "    \n",
        "\n",
        "\n",
        "test = ListNode(\"sjhsn\")\n",
        "l4=ListNode(8)\n",
        "l3=ListNode(7,l4)    \n",
        "l2 = ListNode(6,l3)\n",
        "l1 = ListNode(5,l2)\n",
        "\n",
        "L1 = LinkedList(l1)\n",
        "print(L1)\n",
        "L1.search(test)\n",
        "li = [1,2,3,4,5,6,7,8,9,10,55,250,152,154,151,11515,18541]\n",
        "go = create_from_list(li)\n",
        "go\n",
        "\n",
        "\n",
        "    \n",
        "\n"
      ],
      "execution_count": null,
      "outputs": [
        {
          "output_type": "stream",
          "text": [
            "5 --> 6 --> 7 --> 8\n"
          ],
          "name": "stdout"
        },
        {
          "output_type": "execute_result",
          "data": {
            "text/plain": [
              "1 --> 2 --> 3 --> 4 --> 5 --> 6 --> 7 --> 8 --> 9 --> 10 --> 55 --> 250 --> 152 --> 154 --> 151 --> 11515 --> 18541"
            ]
          },
          "metadata": {
            "tags": []
          },
          "execution_count": 1
        }
      ]
    },
    {
      "cell_type": "markdown",
      "metadata": {
        "id": "mNSVgn8qK_9E",
        "colab_type": "text"
      },
      "source": [
        "# ***Queues Implementation (Using Linked Lists)***"
      ]
    },
    {
      "cell_type": "code",
      "metadata": {
        "id": "e8ZwSMjwLAZc",
        "colab_type": "code",
        "colab": {
          "base_uri": "https://localhost:8080/",
          "height": 34
        },
        "outputId": "49d6336b-507c-4037-8b97-8a4781675a35"
      },
      "source": [
        "class Queue :\n",
        "\n",
        "\n",
        "  def __init__(self, capacity):\n",
        "    self.representation = LinkedList()\n",
        "    self.front = 0\n",
        "    self.back = 0\n",
        "    self.capacity = capacity\n",
        "    self.current_node  = None \n",
        "\n",
        "  def dequeue(self):\n",
        "    if self.back == 0:\n",
        "      print(\"Can't dequeue! Queue is empty!\")\n",
        "    else:\n",
        "      self.representation.head = self.representation.head.next\n",
        "      self.back -= 1\n",
        "\n",
        "  def enqueue(self, data = None ):\n",
        "    if self.back == self.capacity:\n",
        "      print(\"Can't enqueue! Queue is full!\")\n",
        "    elif self.back == 0:\n",
        "      self.representation.head = ListNode(data) \n",
        "      self.back += 1\n",
        "      self.current_node = self.representation.head\n",
        "    else:\n",
        "      self.current_node.next = ListNode(data)\n",
        "      self.current_node = self.current_node.next\n",
        "      self.back += 1\n",
        "\n",
        "\n",
        "  def peek(self):\n",
        "    if self.back == 0:\n",
        "      print(\"Can't peek! Queue is empty!\")\n",
        "    else:\n",
        "      return self.representation.head.data\n",
        "\n",
        "\n",
        "\n",
        "  def __repr__(self):\n",
        "    current_node = self.representation.head\n",
        "    l = []\n",
        "    while current_node != None:\n",
        "      l.append(str(current_node.data))\n",
        "      current_node = current_node.next\n",
        "    if len(l)  == 1:\n",
        "      return l[0]\n",
        "    return l[0] + \" --> \"+\" --> \".join(l[1:len(l)])\n",
        "\n",
        "    \n",
        "# test\n",
        "\n",
        "\n",
        "my_queue = Queue(3)\n",
        "my_queue.enqueue(1756)\n",
        "my_queue.enqueue(6541)\n",
        "my_queue.dequeue()\n",
        "my_queue.enqueue(45)\n",
        "my_queue.enqueue(11)\n",
        "print(my_queue)\n",
        "    \n",
        "    \n",
        "      "
      ],
      "execution_count": null,
      "outputs": [
        {
          "output_type": "stream",
          "text": [
            "6541 --> 45 --> 11\n"
          ],
          "name": "stdout"
        }
      ]
    },
    {
      "cell_type": "markdown",
      "metadata": {
        "id": "Q7DPEVFKwtIc",
        "colab_type": "text"
      },
      "source": [
        "# ***Binary Search Tree Implementation***"
      ]
    },
    {
      "cell_type": "code",
      "metadata": {
        "id": "1qoIE-gXwtZe",
        "colab_type": "code",
        "colab": {
          "base_uri": "https://localhost:8080/",
          "height": 34
        },
        "outputId": "8798cecb-ebc3-4212-d2c3-fea064252e4f"
      },
      "source": [
        "class Node:\n",
        "  def __init__(self,data = 0):\n",
        "    self.data = data\n",
        "    self.left = None\n",
        "    self.right = None\n",
        "\n",
        "class BST:\n",
        "  def __init__(self,node = None):\n",
        "    self.root = node \n",
        "  def insert(self, node = None):\n",
        "    parent = self.root\n",
        "    while parent != None :\n",
        "      if node.data <= parent.data:\n",
        "        if parent.left == None :\n",
        "          parent.left = node\n",
        "          break\n",
        "        else:\n",
        "          parent = parent.left\n",
        "      else:\n",
        "        if parent.right == None:\n",
        "          parent.right = node\n",
        "          break\n",
        "        else:\n",
        "          parent = parent.right\n",
        "\n",
        "\n",
        "root = Node(12)\n",
        "m = BST(root)\n",
        "\n",
        "n0 = Node(10)\n",
        "n1 = Node(25)\n",
        "n2 = Node(27)\n",
        "\n",
        "m.insert(n0)\n",
        "m.insert(n1)\n",
        "m.insert(n2)\n",
        "m.insert(Node(20))\n",
        "m.insert(Node(11))\n",
        "m.insert(Node(7))\n",
        "\n",
        "\n",
        "root.left.right.data\n",
        "\n"
      ],
      "execution_count": null,
      "outputs": [
        {
          "output_type": "execute_result",
          "data": {
            "text/plain": [
              "11"
            ]
          },
          "metadata": {
            "tags": []
          },
          "execution_count": 18
        }
      ]
    },
    {
      "cell_type": "markdown",
      "metadata": {
        "id": "__o13R_hC4LX",
        "colab_type": "text"
      },
      "source": [
        "# ***Guess Game***"
      ]
    },
    {
      "cell_type": "code",
      "metadata": {
        "id": "nm94-26ZC9qr",
        "colab_type": "code",
        "colab": {
          "base_uri": "https://localhost:8080/",
          "height": 238
        },
        "outputId": "40214724-0acf-4311-c7a9-48f3e09dec29"
      },
      "source": [
        "import random\n",
        "num = 20\n",
        "secret_num = random.randint(1,num)\n",
        "print(f\"I am thinking of a number between 1 and {num}.\\nTake a guess!\")\n",
        "count = 0\n",
        "while count != 5:\n",
        "  guess = int(input())\n",
        "  if guess > secret_num:\n",
        "    print(\"Your guess is too high!\\nTry Again!\")\n",
        "  elif guess == secret_num:\n",
        "    print(f\"Good job! You guessed my number in {count} guesses!\")\n",
        "    break\n",
        "  else:\n",
        "    print(\"Your guess is too low!\\nTry Again!\") \n",
        "  count += 1\n",
        "if count == 5:\n",
        "  guess = input()\n",
        "  if guess == secret_num:\n",
        "    print(f\"Good job! You guessed my number in 5 guesses!\")\n",
        "  else:\n",
        "    print(f\"Nope. The number I was thinking of was {secret_num}.\")\n"
      ],
      "execution_count": null,
      "outputs": [
        {
          "output_type": "stream",
          "text": [
            "I am thinking of a number between 1 and 20.\n",
            "Take a guess!\n",
            "5\n",
            "Your guess is too low!\n",
            "Try Again!\n",
            "10\n",
            "Your guess is too low!\n",
            "Try Again!\n",
            "17\n",
            "Your guess is too low!\n",
            "Try Again!\n",
            "19\n",
            "Good job! You guessed my number in 3 guesses!\n"
          ],
          "name": "stdout"
        }
      ]
    },
    {
      "cell_type": "markdown",
      "metadata": {
        "id": "HLseQ6sZHIBa",
        "colab_type": "text"
      },
      "source": [
        "# ***Rock, Paper, Scissors***"
      ]
    },
    {
      "cell_type": "code",
      "metadata": {
        "id": "pyqNINSsHIP7",
        "colab_type": "code",
        "colab": {
          "base_uri": "https://localhost:8080/",
          "height": 1000
        },
        "outputId": "1cc5a9c0-e57c-4bcc-cb16-98627e3b18ec"
      },
      "source": [
        "import random \n",
        "choices = [\"p\",\"r\",\"s\"]\n",
        "losses = 0\n",
        "wins = 0\n",
        "ties = 0\n",
        "print(\"ROCK, PAPER, SCISSORS\")\n",
        "print(f\"{wins} Wins, {losses} Losses, {ties} Ties\")\n",
        "print(\"Enter your move: (r)ock (p)aper (s)cissors or (q)uit\")\n",
        "move = input()\n",
        "while move != \"q\":\n",
        "  c_move = random.choice(choices)\n",
        "  ## If the move is Rock\n",
        "  if move == \"r\":\n",
        "    print(\"Rock vs ...\")\n",
        "    if c_move == \"r\":\n",
        "      print(\"Rock\\nTie.\")\n",
        "      ties += 1\n",
        "    elif c_move == \"p\":\n",
        "      print(\"Paper\\nLosse.\")\n",
        "      losses += 1\n",
        "    elif c_move == \"s\":\n",
        "      print(\"Scissors\\nWin.\")\n",
        "      wins += 1\n",
        "\n",
        "  ## If the move is Paper\n",
        "\n",
        "  if move == \"p\":\n",
        "    print(\"Paper vs ...\")\n",
        "    if c_move == \"r\":\n",
        "      print(\"Rock\\nWin.\")\n",
        "      wins += 1\n",
        "    elif c_move == \"p\":\n",
        "      print(\"Paper\\nTie.\")\n",
        "      ties += 1\n",
        "    elif c_move == \"s\":\n",
        "      print(\"Scissors\\nLosse.\")\n",
        "      losses += 1\n",
        "\n",
        "  ## If the move is Scissors\n",
        "\n",
        "  if move == \"s\":\n",
        "    print(\"Scissors vs ...\")\n",
        "    if c_move == \"r\":\n",
        "      print(\"Rock\\nLosse.\")\n",
        "      losses += 1\n",
        "    elif c_move == \"p\":\n",
        "      print(\"Paper\\nWin.\")\n",
        "      wins += 1\n",
        "    elif c_move == \"s\":\n",
        "      print(\"Scissors\\nTie.\")\n",
        "      ties += 1\n",
        "    \n",
        "  print(f'{wins} Wins, {losses} Losses, {ties} Ties')\n",
        "  print(\"Enter your move: (r)ock (p)aper (s)cissors or (q)uit\")\n",
        "  move = input()\n",
        "\n",
        "  "
      ],
      "execution_count": 3,
      "outputs": [
        {
          "output_type": "stream",
          "text": [
            "ROCK, PAPER, SCISSORS\n",
            "0 Wins, 0 Losses, 0 Ties\n",
            "Enter your move: (r)ock (p)aper (s)cissors or (q)uit\n",
            "r\n",
            "Rock vs ...\n",
            "Scissors\n",
            "Win.\n",
            "1 Wins, 0 Losses, 0 Ties\n",
            "Enter your move: (r)ock (p)aper (s)cissors or (q)uit\n",
            "p\n",
            "Paper vs ...\n",
            "Paper\n",
            "Tie.\n",
            "1 Wins, 0 Losses, 1 Ties\n",
            "Enter your move: (r)ock (p)aper (s)cissors or (q)uit\n",
            "r\n",
            "Rock vs ...\n",
            "Scissors\n",
            "Win.\n",
            "2 Wins, 0 Losses, 1 Ties\n",
            "Enter your move: (r)ock (p)aper (s)cissors or (q)uit\n",
            "s\n",
            "Scissors vs ...\n",
            "Scissors\n",
            "Tie.\n",
            "2 Wins, 0 Losses, 2 Ties\n",
            "Enter your move: (r)ock (p)aper (s)cissors or (q)uit\n",
            "p\n",
            "Paper vs ...\n",
            "Scissors\n",
            "Losse.\n",
            "2 Wins, 1 Losses, 2 Ties\n",
            "Enter your move: (r)ock (p)aper (s)cissors or (q)uit\n"
          ],
          "name": "stdout"
        },
        {
          "output_type": "error",
          "ename": "KeyboardInterrupt",
          "evalue": "ignored",
          "traceback": [
            "\u001b[0;31m---------------------------------------------------------------------------\u001b[0m",
            "\u001b[0;31mKeyboardInterrupt\u001b[0m                         Traceback (most recent call last)",
            "\u001b[0;32m/usr/local/lib/python3.6/dist-packages/ipykernel/kernelbase.py\u001b[0m in \u001b[0;36m_input_request\u001b[0;34m(self, prompt, ident, parent, password)\u001b[0m\n\u001b[1;32m    728\u001b[0m             \u001b[0;32mtry\u001b[0m\u001b[0;34m:\u001b[0m\u001b[0;34m\u001b[0m\u001b[0;34m\u001b[0m\u001b[0m\n\u001b[0;32m--> 729\u001b[0;31m                 \u001b[0mident\u001b[0m\u001b[0;34m,\u001b[0m \u001b[0mreply\u001b[0m \u001b[0;34m=\u001b[0m \u001b[0mself\u001b[0m\u001b[0;34m.\u001b[0m\u001b[0msession\u001b[0m\u001b[0;34m.\u001b[0m\u001b[0mrecv\u001b[0m\u001b[0;34m(\u001b[0m\u001b[0mself\u001b[0m\u001b[0;34m.\u001b[0m\u001b[0mstdin_socket\u001b[0m\u001b[0;34m,\u001b[0m \u001b[0;36m0\u001b[0m\u001b[0;34m)\u001b[0m\u001b[0;34m\u001b[0m\u001b[0;34m\u001b[0m\u001b[0m\n\u001b[0m\u001b[1;32m    730\u001b[0m             \u001b[0;32mexcept\u001b[0m \u001b[0mException\u001b[0m\u001b[0;34m:\u001b[0m\u001b[0;34m\u001b[0m\u001b[0;34m\u001b[0m\u001b[0m\n",
            "\u001b[0;32m/usr/local/lib/python3.6/dist-packages/jupyter_client/session.py\u001b[0m in \u001b[0;36mrecv\u001b[0;34m(self, socket, mode, content, copy)\u001b[0m\n\u001b[1;32m    802\u001b[0m         \u001b[0;32mtry\u001b[0m\u001b[0;34m:\u001b[0m\u001b[0;34m\u001b[0m\u001b[0;34m\u001b[0m\u001b[0m\n\u001b[0;32m--> 803\u001b[0;31m             \u001b[0mmsg_list\u001b[0m \u001b[0;34m=\u001b[0m \u001b[0msocket\u001b[0m\u001b[0;34m.\u001b[0m\u001b[0mrecv_multipart\u001b[0m\u001b[0;34m(\u001b[0m\u001b[0mmode\u001b[0m\u001b[0;34m,\u001b[0m \u001b[0mcopy\u001b[0m\u001b[0;34m=\u001b[0m\u001b[0mcopy\u001b[0m\u001b[0;34m)\u001b[0m\u001b[0;34m\u001b[0m\u001b[0;34m\u001b[0m\u001b[0m\n\u001b[0m\u001b[1;32m    804\u001b[0m         \u001b[0;32mexcept\u001b[0m \u001b[0mzmq\u001b[0m\u001b[0;34m.\u001b[0m\u001b[0mZMQError\u001b[0m \u001b[0;32mas\u001b[0m \u001b[0me\u001b[0m\u001b[0;34m:\u001b[0m\u001b[0;34m\u001b[0m\u001b[0;34m\u001b[0m\u001b[0m\n",
            "\u001b[0;32m/usr/local/lib/python3.6/dist-packages/zmq/sugar/socket.py\u001b[0m in \u001b[0;36mrecv_multipart\u001b[0;34m(self, flags, copy, track)\u001b[0m\n\u001b[1;32m    474\u001b[0m         \"\"\"\n\u001b[0;32m--> 475\u001b[0;31m         \u001b[0mparts\u001b[0m \u001b[0;34m=\u001b[0m \u001b[0;34m[\u001b[0m\u001b[0mself\u001b[0m\u001b[0;34m.\u001b[0m\u001b[0mrecv\u001b[0m\u001b[0;34m(\u001b[0m\u001b[0mflags\u001b[0m\u001b[0;34m,\u001b[0m \u001b[0mcopy\u001b[0m\u001b[0;34m=\u001b[0m\u001b[0mcopy\u001b[0m\u001b[0;34m,\u001b[0m \u001b[0mtrack\u001b[0m\u001b[0;34m=\u001b[0m\u001b[0mtrack\u001b[0m\u001b[0;34m)\u001b[0m\u001b[0;34m]\u001b[0m\u001b[0;34m\u001b[0m\u001b[0;34m\u001b[0m\u001b[0m\n\u001b[0m\u001b[1;32m    476\u001b[0m         \u001b[0;31m# have first part already, only loop while more to receive\u001b[0m\u001b[0;34m\u001b[0m\u001b[0;34m\u001b[0m\u001b[0;34m\u001b[0m\u001b[0m\n",
            "\u001b[0;32mzmq/backend/cython/socket.pyx\u001b[0m in \u001b[0;36mzmq.backend.cython.socket.Socket.recv\u001b[0;34m()\u001b[0m\n",
            "\u001b[0;32mzmq/backend/cython/socket.pyx\u001b[0m in \u001b[0;36mzmq.backend.cython.socket.Socket.recv\u001b[0;34m()\u001b[0m\n",
            "\u001b[0;32mzmq/backend/cython/socket.pyx\u001b[0m in \u001b[0;36mzmq.backend.cython.socket._recv_copy\u001b[0;34m()\u001b[0m\n",
            "\u001b[0;32m/usr/local/lib/python3.6/dist-packages/zmq/backend/cython/checkrc.pxd\u001b[0m in \u001b[0;36mzmq.backend.cython.checkrc._check_rc\u001b[0;34m()\u001b[0m\n",
            "\u001b[0;31mKeyboardInterrupt\u001b[0m: ",
            "\nDuring handling of the above exception, another exception occurred:\n",
            "\u001b[0;31mKeyboardInterrupt\u001b[0m                         Traceback (most recent call last)",
            "\u001b[0;32m<ipython-input-3-79bdd9d6d3ac>\u001b[0m in \u001b[0;36m<module>\u001b[0;34m()\u001b[0m\n\u001b[1;32m     53\u001b[0m   \u001b[0mprint\u001b[0m\u001b[0;34m(\u001b[0m\u001b[0;34mf'{wins} Wins, {losses} Losses, {ties} Ties'\u001b[0m\u001b[0;34m)\u001b[0m\u001b[0;34m\u001b[0m\u001b[0;34m\u001b[0m\u001b[0m\n\u001b[1;32m     54\u001b[0m   \u001b[0mprint\u001b[0m\u001b[0;34m(\u001b[0m\u001b[0;34m\"Enter your move: (r)ock (p)aper (s)cissors or (q)uit\"\u001b[0m\u001b[0;34m)\u001b[0m\u001b[0;34m\u001b[0m\u001b[0;34m\u001b[0m\u001b[0m\n\u001b[0;32m---> 55\u001b[0;31m   \u001b[0mmove\u001b[0m \u001b[0;34m=\u001b[0m \u001b[0minput\u001b[0m\u001b[0;34m(\u001b[0m\u001b[0;34m)\u001b[0m\u001b[0;34m\u001b[0m\u001b[0;34m\u001b[0m\u001b[0m\n\u001b[0m\u001b[1;32m     56\u001b[0m \u001b[0;34m\u001b[0m\u001b[0m\n\u001b[1;32m     57\u001b[0m \u001b[0;34m\u001b[0m\u001b[0m\n",
            "\u001b[0;32m/usr/local/lib/python3.6/dist-packages/ipykernel/kernelbase.py\u001b[0m in \u001b[0;36mraw_input\u001b[0;34m(self, prompt)\u001b[0m\n\u001b[1;32m    702\u001b[0m             \u001b[0mself\u001b[0m\u001b[0;34m.\u001b[0m\u001b[0m_parent_ident\u001b[0m\u001b[0;34m,\u001b[0m\u001b[0;34m\u001b[0m\u001b[0;34m\u001b[0m\u001b[0m\n\u001b[1;32m    703\u001b[0m             \u001b[0mself\u001b[0m\u001b[0;34m.\u001b[0m\u001b[0m_parent_header\u001b[0m\u001b[0;34m,\u001b[0m\u001b[0;34m\u001b[0m\u001b[0;34m\u001b[0m\u001b[0m\n\u001b[0;32m--> 704\u001b[0;31m             \u001b[0mpassword\u001b[0m\u001b[0;34m=\u001b[0m\u001b[0;32mFalse\u001b[0m\u001b[0;34m,\u001b[0m\u001b[0;34m\u001b[0m\u001b[0;34m\u001b[0m\u001b[0m\n\u001b[0m\u001b[1;32m    705\u001b[0m         )\n\u001b[1;32m    706\u001b[0m \u001b[0;34m\u001b[0m\u001b[0m\n",
            "\u001b[0;32m/usr/local/lib/python3.6/dist-packages/ipykernel/kernelbase.py\u001b[0m in \u001b[0;36m_input_request\u001b[0;34m(self, prompt, ident, parent, password)\u001b[0m\n\u001b[1;32m    732\u001b[0m             \u001b[0;32mexcept\u001b[0m \u001b[0mKeyboardInterrupt\u001b[0m\u001b[0;34m:\u001b[0m\u001b[0;34m\u001b[0m\u001b[0;34m\u001b[0m\u001b[0m\n\u001b[1;32m    733\u001b[0m                 \u001b[0;31m# re-raise KeyboardInterrupt, to truncate traceback\u001b[0m\u001b[0;34m\u001b[0m\u001b[0;34m\u001b[0m\u001b[0;34m\u001b[0m\u001b[0m\n\u001b[0;32m--> 734\u001b[0;31m                 \u001b[0;32mraise\u001b[0m \u001b[0mKeyboardInterrupt\u001b[0m\u001b[0;34m\u001b[0m\u001b[0;34m\u001b[0m\u001b[0m\n\u001b[0m\u001b[1;32m    735\u001b[0m             \u001b[0;32melse\u001b[0m\u001b[0;34m:\u001b[0m\u001b[0;34m\u001b[0m\u001b[0;34m\u001b[0m\u001b[0m\n\u001b[1;32m    736\u001b[0m                 \u001b[0;32mbreak\u001b[0m\u001b[0;34m\u001b[0m\u001b[0;34m\u001b[0m\u001b[0m\n",
            "\u001b[0;31mKeyboardInterrupt\u001b[0m: "
          ]
        }
      ]
    },
    {
      "cell_type": "code",
      "metadata": {
        "id": "Ipm6U7GBw9G2",
        "colab_type": "code",
        "colab": {}
      },
      "source": [
        ""
      ],
      "execution_count": null,
      "outputs": []
    },
    {
      "cell_type": "code",
      "metadata": {
        "id": "v9gZxY-xI9Jg",
        "colab_type": "code",
        "colab": {}
      },
      "source": [
        ""
      ],
      "execution_count": null,
      "outputs": []
    }
  ]
}